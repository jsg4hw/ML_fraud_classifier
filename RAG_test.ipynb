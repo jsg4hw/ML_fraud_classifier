{
  "nbformat": 4,
  "nbformat_minor": 0,
  "metadata": {
    "colab": {
      "provenance": [],
      "authorship_tag": "ABX9TyOEM9pTy5z75j8+ZZpV/NEK",
      "include_colab_link": true
    },
    "kernelspec": {
      "name": "python3",
      "display_name": "Python 3"
    },
    "language_info": {
      "name": "python"
    },
    "widgets": {
      "application/vnd.jupyter.widget-state+json": {
        "882f21028cb84f018ba5c18501f3b683": {
          "model_module": "@jupyter-widgets/controls",
          "model_name": "HBoxModel",
          "model_module_version": "1.5.0",
          "state": {
            "_dom_classes": [],
            "_model_module": "@jupyter-widgets/controls",
            "_model_module_version": "1.5.0",
            "_model_name": "HBoxModel",
            "_view_count": null,
            "_view_module": "@jupyter-widgets/controls",
            "_view_module_version": "1.5.0",
            "_view_name": "HBoxView",
            "box_style": "",
            "children": [
              "IPY_MODEL_956c1e71aac54534827cf8b9979f6d21",
              "IPY_MODEL_1d566c2f66a847b182936fd53e0745c4",
              "IPY_MODEL_7e6405a871274816b31701401100cdeb"
            ],
            "layout": "IPY_MODEL_587befb9a2ce4cb79f03cce85e3a71e0"
          }
        },
        "956c1e71aac54534827cf8b9979f6d21": {
          "model_module": "@jupyter-widgets/controls",
          "model_name": "HTMLModel",
          "model_module_version": "1.5.0",
          "state": {
            "_dom_classes": [],
            "_model_module": "@jupyter-widgets/controls",
            "_model_module_version": "1.5.0",
            "_model_name": "HTMLModel",
            "_view_count": null,
            "_view_module": "@jupyter-widgets/controls",
            "_view_module_version": "1.5.0",
            "_view_name": "HTMLView",
            "description": "",
            "description_tooltip": null,
            "layout": "IPY_MODEL_bdcf998690dc4456a37de5a941d638fa",
            "placeholder": "​",
            "style": "IPY_MODEL_5a1a2d3b63c44c6fa210f185003ac3fc",
            "value": "Parsing nodes: 100%"
          }
        },
        "1d566c2f66a847b182936fd53e0745c4": {
          "model_module": "@jupyter-widgets/controls",
          "model_name": "FloatProgressModel",
          "model_module_version": "1.5.0",
          "state": {
            "_dom_classes": [],
            "_model_module": "@jupyter-widgets/controls",
            "_model_module_version": "1.5.0",
            "_model_name": "FloatProgressModel",
            "_view_count": null,
            "_view_module": "@jupyter-widgets/controls",
            "_view_module_version": "1.5.0",
            "_view_name": "ProgressView",
            "bar_style": "success",
            "description": "",
            "description_tooltip": null,
            "layout": "IPY_MODEL_78d6887857b4462ebbcb9fbbaf06dfdf",
            "max": 300,
            "min": 0,
            "orientation": "horizontal",
            "style": "IPY_MODEL_9203394aeb6146e68f7c5043872bcb16",
            "value": 300
          }
        },
        "7e6405a871274816b31701401100cdeb": {
          "model_module": "@jupyter-widgets/controls",
          "model_name": "HTMLModel",
          "model_module_version": "1.5.0",
          "state": {
            "_dom_classes": [],
            "_model_module": "@jupyter-widgets/controls",
            "_model_module_version": "1.5.0",
            "_model_name": "HTMLModel",
            "_view_count": null,
            "_view_module": "@jupyter-widgets/controls",
            "_view_module_version": "1.5.0",
            "_view_name": "HTMLView",
            "description": "",
            "description_tooltip": null,
            "layout": "IPY_MODEL_0341838b5b08473895cb0faeb51ee280",
            "placeholder": "​",
            "style": "IPY_MODEL_a20a1da81215442aa76be264263f3c7f",
            "value": " 300/300 [00:00&lt;00:00, 1119.83it/s]"
          }
        },
        "587befb9a2ce4cb79f03cce85e3a71e0": {
          "model_module": "@jupyter-widgets/base",
          "model_name": "LayoutModel",
          "model_module_version": "1.2.0",
          "state": {
            "_model_module": "@jupyter-widgets/base",
            "_model_module_version": "1.2.0",
            "_model_name": "LayoutModel",
            "_view_count": null,
            "_view_module": "@jupyter-widgets/base",
            "_view_module_version": "1.2.0",
            "_view_name": "LayoutView",
            "align_content": null,
            "align_items": null,
            "align_self": null,
            "border": null,
            "bottom": null,
            "display": null,
            "flex": null,
            "flex_flow": null,
            "grid_area": null,
            "grid_auto_columns": null,
            "grid_auto_flow": null,
            "grid_auto_rows": null,
            "grid_column": null,
            "grid_gap": null,
            "grid_row": null,
            "grid_template_areas": null,
            "grid_template_columns": null,
            "grid_template_rows": null,
            "height": null,
            "justify_content": null,
            "justify_items": null,
            "left": null,
            "margin": null,
            "max_height": null,
            "max_width": null,
            "min_height": null,
            "min_width": null,
            "object_fit": null,
            "object_position": null,
            "order": null,
            "overflow": null,
            "overflow_x": null,
            "overflow_y": null,
            "padding": null,
            "right": null,
            "top": null,
            "visibility": null,
            "width": null
          }
        },
        "bdcf998690dc4456a37de5a941d638fa": {
          "model_module": "@jupyter-widgets/base",
          "model_name": "LayoutModel",
          "model_module_version": "1.2.0",
          "state": {
            "_model_module": "@jupyter-widgets/base",
            "_model_module_version": "1.2.0",
            "_model_name": "LayoutModel",
            "_view_count": null,
            "_view_module": "@jupyter-widgets/base",
            "_view_module_version": "1.2.0",
            "_view_name": "LayoutView",
            "align_content": null,
            "align_items": null,
            "align_self": null,
            "border": null,
            "bottom": null,
            "display": null,
            "flex": null,
            "flex_flow": null,
            "grid_area": null,
            "grid_auto_columns": null,
            "grid_auto_flow": null,
            "grid_auto_rows": null,
            "grid_column": null,
            "grid_gap": null,
            "grid_row": null,
            "grid_template_areas": null,
            "grid_template_columns": null,
            "grid_template_rows": null,
            "height": null,
            "justify_content": null,
            "justify_items": null,
            "left": null,
            "margin": null,
            "max_height": null,
            "max_width": null,
            "min_height": null,
            "min_width": null,
            "object_fit": null,
            "object_position": null,
            "order": null,
            "overflow": null,
            "overflow_x": null,
            "overflow_y": null,
            "padding": null,
            "right": null,
            "top": null,
            "visibility": null,
            "width": null
          }
        },
        "5a1a2d3b63c44c6fa210f185003ac3fc": {
          "model_module": "@jupyter-widgets/controls",
          "model_name": "DescriptionStyleModel",
          "model_module_version": "1.5.0",
          "state": {
            "_model_module": "@jupyter-widgets/controls",
            "_model_module_version": "1.5.0",
            "_model_name": "DescriptionStyleModel",
            "_view_count": null,
            "_view_module": "@jupyter-widgets/base",
            "_view_module_version": "1.2.0",
            "_view_name": "StyleView",
            "description_width": ""
          }
        },
        "78d6887857b4462ebbcb9fbbaf06dfdf": {
          "model_module": "@jupyter-widgets/base",
          "model_name": "LayoutModel",
          "model_module_version": "1.2.0",
          "state": {
            "_model_module": "@jupyter-widgets/base",
            "_model_module_version": "1.2.0",
            "_model_name": "LayoutModel",
            "_view_count": null,
            "_view_module": "@jupyter-widgets/base",
            "_view_module_version": "1.2.0",
            "_view_name": "LayoutView",
            "align_content": null,
            "align_items": null,
            "align_self": null,
            "border": null,
            "bottom": null,
            "display": null,
            "flex": null,
            "flex_flow": null,
            "grid_area": null,
            "grid_auto_columns": null,
            "grid_auto_flow": null,
            "grid_auto_rows": null,
            "grid_column": null,
            "grid_gap": null,
            "grid_row": null,
            "grid_template_areas": null,
            "grid_template_columns": null,
            "grid_template_rows": null,
            "height": null,
            "justify_content": null,
            "justify_items": null,
            "left": null,
            "margin": null,
            "max_height": null,
            "max_width": null,
            "min_height": null,
            "min_width": null,
            "object_fit": null,
            "object_position": null,
            "order": null,
            "overflow": null,
            "overflow_x": null,
            "overflow_y": null,
            "padding": null,
            "right": null,
            "top": null,
            "visibility": null,
            "width": null
          }
        },
        "9203394aeb6146e68f7c5043872bcb16": {
          "model_module": "@jupyter-widgets/controls",
          "model_name": "ProgressStyleModel",
          "model_module_version": "1.5.0",
          "state": {
            "_model_module": "@jupyter-widgets/controls",
            "_model_module_version": "1.5.0",
            "_model_name": "ProgressStyleModel",
            "_view_count": null,
            "_view_module": "@jupyter-widgets/base",
            "_view_module_version": "1.2.0",
            "_view_name": "StyleView",
            "bar_color": null,
            "description_width": ""
          }
        },
        "0341838b5b08473895cb0faeb51ee280": {
          "model_module": "@jupyter-widgets/base",
          "model_name": "LayoutModel",
          "model_module_version": "1.2.0",
          "state": {
            "_model_module": "@jupyter-widgets/base",
            "_model_module_version": "1.2.0",
            "_model_name": "LayoutModel",
            "_view_count": null,
            "_view_module": "@jupyter-widgets/base",
            "_view_module_version": "1.2.0",
            "_view_name": "LayoutView",
            "align_content": null,
            "align_items": null,
            "align_self": null,
            "border": null,
            "bottom": null,
            "display": null,
            "flex": null,
            "flex_flow": null,
            "grid_area": null,
            "grid_auto_columns": null,
            "grid_auto_flow": null,
            "grid_auto_rows": null,
            "grid_column": null,
            "grid_gap": null,
            "grid_row": null,
            "grid_template_areas": null,
            "grid_template_columns": null,
            "grid_template_rows": null,
            "height": null,
            "justify_content": null,
            "justify_items": null,
            "left": null,
            "margin": null,
            "max_height": null,
            "max_width": null,
            "min_height": null,
            "min_width": null,
            "object_fit": null,
            "object_position": null,
            "order": null,
            "overflow": null,
            "overflow_x": null,
            "overflow_y": null,
            "padding": null,
            "right": null,
            "top": null,
            "visibility": null,
            "width": null
          }
        },
        "a20a1da81215442aa76be264263f3c7f": {
          "model_module": "@jupyter-widgets/controls",
          "model_name": "DescriptionStyleModel",
          "model_module_version": "1.5.0",
          "state": {
            "_model_module": "@jupyter-widgets/controls",
            "_model_module_version": "1.5.0",
            "_model_name": "DescriptionStyleModel",
            "_view_count": null,
            "_view_module": "@jupyter-widgets/base",
            "_view_module_version": "1.2.0",
            "_view_name": "StyleView",
            "description_width": ""
          }
        },
        "968dbd7f05bb41d7899571eee4acee7a": {
          "model_module": "@jupyter-widgets/controls",
          "model_name": "HBoxModel",
          "model_module_version": "1.5.0",
          "state": {
            "_dom_classes": [],
            "_model_module": "@jupyter-widgets/controls",
            "_model_module_version": "1.5.0",
            "_model_name": "HBoxModel",
            "_view_count": null,
            "_view_module": "@jupyter-widgets/controls",
            "_view_module_version": "1.5.0",
            "_view_name": "HBoxView",
            "box_style": "",
            "children": [
              "IPY_MODEL_dfde7cb0967c424d80d2365fceadb05e",
              "IPY_MODEL_8cec0687501949308867e946873ba4bf",
              "IPY_MODEL_8f9e76153e0546808b0c15db46d19876"
            ],
            "layout": "IPY_MODEL_6ddfbf6267674f23943dedd3a2f8011f"
          }
        },
        "dfde7cb0967c424d80d2365fceadb05e": {
          "model_module": "@jupyter-widgets/controls",
          "model_name": "HTMLModel",
          "model_module_version": "1.5.0",
          "state": {
            "_dom_classes": [],
            "_model_module": "@jupyter-widgets/controls",
            "_model_module_version": "1.5.0",
            "_model_name": "HTMLModel",
            "_view_count": null,
            "_view_module": "@jupyter-widgets/controls",
            "_view_module_version": "1.5.0",
            "_view_name": "HTMLView",
            "description": "",
            "description_tooltip": null,
            "layout": "IPY_MODEL_19f29b8cfe92410cb3aaa49ee8c4d414",
            "placeholder": "​",
            "style": "IPY_MODEL_0fad3043ec334e1fbe372490f2e22895",
            "value": "Generating embeddings: 100%"
          }
        },
        "8cec0687501949308867e946873ba4bf": {
          "model_module": "@jupyter-widgets/controls",
          "model_name": "FloatProgressModel",
          "model_module_version": "1.5.0",
          "state": {
            "_dom_classes": [],
            "_model_module": "@jupyter-widgets/controls",
            "_model_module_version": "1.5.0",
            "_model_name": "FloatProgressModel",
            "_view_count": null,
            "_view_module": "@jupyter-widgets/controls",
            "_view_module_version": "1.5.0",
            "_view_name": "ProgressView",
            "bar_style": "success",
            "description": "",
            "description_tooltip": null,
            "layout": "IPY_MODEL_f2f26e451a1a4baca986b04aae2e063e",
            "max": 300,
            "min": 0,
            "orientation": "horizontal",
            "style": "IPY_MODEL_7a8d624594e540328929a916edf009e8",
            "value": 300
          }
        },
        "8f9e76153e0546808b0c15db46d19876": {
          "model_module": "@jupyter-widgets/controls",
          "model_name": "HTMLModel",
          "model_module_version": "1.5.0",
          "state": {
            "_dom_classes": [],
            "_model_module": "@jupyter-widgets/controls",
            "_model_module_version": "1.5.0",
            "_model_name": "HTMLModel",
            "_view_count": null,
            "_view_module": "@jupyter-widgets/controls",
            "_view_module_version": "1.5.0",
            "_view_name": "HTMLView",
            "description": "",
            "description_tooltip": null,
            "layout": "IPY_MODEL_9e8986d974f048b5973f6f811052d926",
            "placeholder": "​",
            "style": "IPY_MODEL_779848cc1fe94124bd21a7cde6cfac00",
            "value": " 300/300 [00:21&lt;00:00, 14.25it/s]"
          }
        },
        "6ddfbf6267674f23943dedd3a2f8011f": {
          "model_module": "@jupyter-widgets/base",
          "model_name": "LayoutModel",
          "model_module_version": "1.2.0",
          "state": {
            "_model_module": "@jupyter-widgets/base",
            "_model_module_version": "1.2.0",
            "_model_name": "LayoutModel",
            "_view_count": null,
            "_view_module": "@jupyter-widgets/base",
            "_view_module_version": "1.2.0",
            "_view_name": "LayoutView",
            "align_content": null,
            "align_items": null,
            "align_self": null,
            "border": null,
            "bottom": null,
            "display": null,
            "flex": null,
            "flex_flow": null,
            "grid_area": null,
            "grid_auto_columns": null,
            "grid_auto_flow": null,
            "grid_auto_rows": null,
            "grid_column": null,
            "grid_gap": null,
            "grid_row": null,
            "grid_template_areas": null,
            "grid_template_columns": null,
            "grid_template_rows": null,
            "height": null,
            "justify_content": null,
            "justify_items": null,
            "left": null,
            "margin": null,
            "max_height": null,
            "max_width": null,
            "min_height": null,
            "min_width": null,
            "object_fit": null,
            "object_position": null,
            "order": null,
            "overflow": null,
            "overflow_x": null,
            "overflow_y": null,
            "padding": null,
            "right": null,
            "top": null,
            "visibility": null,
            "width": null
          }
        },
        "19f29b8cfe92410cb3aaa49ee8c4d414": {
          "model_module": "@jupyter-widgets/base",
          "model_name": "LayoutModel",
          "model_module_version": "1.2.0",
          "state": {
            "_model_module": "@jupyter-widgets/base",
            "_model_module_version": "1.2.0",
            "_model_name": "LayoutModel",
            "_view_count": null,
            "_view_module": "@jupyter-widgets/base",
            "_view_module_version": "1.2.0",
            "_view_name": "LayoutView",
            "align_content": null,
            "align_items": null,
            "align_self": null,
            "border": null,
            "bottom": null,
            "display": null,
            "flex": null,
            "flex_flow": null,
            "grid_area": null,
            "grid_auto_columns": null,
            "grid_auto_flow": null,
            "grid_auto_rows": null,
            "grid_column": null,
            "grid_gap": null,
            "grid_row": null,
            "grid_template_areas": null,
            "grid_template_columns": null,
            "grid_template_rows": null,
            "height": null,
            "justify_content": null,
            "justify_items": null,
            "left": null,
            "margin": null,
            "max_height": null,
            "max_width": null,
            "min_height": null,
            "min_width": null,
            "object_fit": null,
            "object_position": null,
            "order": null,
            "overflow": null,
            "overflow_x": null,
            "overflow_y": null,
            "padding": null,
            "right": null,
            "top": null,
            "visibility": null,
            "width": null
          }
        },
        "0fad3043ec334e1fbe372490f2e22895": {
          "model_module": "@jupyter-widgets/controls",
          "model_name": "DescriptionStyleModel",
          "model_module_version": "1.5.0",
          "state": {
            "_model_module": "@jupyter-widgets/controls",
            "_model_module_version": "1.5.0",
            "_model_name": "DescriptionStyleModel",
            "_view_count": null,
            "_view_module": "@jupyter-widgets/base",
            "_view_module_version": "1.2.0",
            "_view_name": "StyleView",
            "description_width": ""
          }
        },
        "f2f26e451a1a4baca986b04aae2e063e": {
          "model_module": "@jupyter-widgets/base",
          "model_name": "LayoutModel",
          "model_module_version": "1.2.0",
          "state": {
            "_model_module": "@jupyter-widgets/base",
            "_model_module_version": "1.2.0",
            "_model_name": "LayoutModel",
            "_view_count": null,
            "_view_module": "@jupyter-widgets/base",
            "_view_module_version": "1.2.0",
            "_view_name": "LayoutView",
            "align_content": null,
            "align_items": null,
            "align_self": null,
            "border": null,
            "bottom": null,
            "display": null,
            "flex": null,
            "flex_flow": null,
            "grid_area": null,
            "grid_auto_columns": null,
            "grid_auto_flow": null,
            "grid_auto_rows": null,
            "grid_column": null,
            "grid_gap": null,
            "grid_row": null,
            "grid_template_areas": null,
            "grid_template_columns": null,
            "grid_template_rows": null,
            "height": null,
            "justify_content": null,
            "justify_items": null,
            "left": null,
            "margin": null,
            "max_height": null,
            "max_width": null,
            "min_height": null,
            "min_width": null,
            "object_fit": null,
            "object_position": null,
            "order": null,
            "overflow": null,
            "overflow_x": null,
            "overflow_y": null,
            "padding": null,
            "right": null,
            "top": null,
            "visibility": null,
            "width": null
          }
        },
        "7a8d624594e540328929a916edf009e8": {
          "model_module": "@jupyter-widgets/controls",
          "model_name": "ProgressStyleModel",
          "model_module_version": "1.5.0",
          "state": {
            "_model_module": "@jupyter-widgets/controls",
            "_model_module_version": "1.5.0",
            "_model_name": "ProgressStyleModel",
            "_view_count": null,
            "_view_module": "@jupyter-widgets/base",
            "_view_module_version": "1.2.0",
            "_view_name": "StyleView",
            "bar_color": null,
            "description_width": ""
          }
        },
        "9e8986d974f048b5973f6f811052d926": {
          "model_module": "@jupyter-widgets/base",
          "model_name": "LayoutModel",
          "model_module_version": "1.2.0",
          "state": {
            "_model_module": "@jupyter-widgets/base",
            "_model_module_version": "1.2.0",
            "_model_name": "LayoutModel",
            "_view_count": null,
            "_view_module": "@jupyter-widgets/base",
            "_view_module_version": "1.2.0",
            "_view_name": "LayoutView",
            "align_content": null,
            "align_items": null,
            "align_self": null,
            "border": null,
            "bottom": null,
            "display": null,
            "flex": null,
            "flex_flow": null,
            "grid_area": null,
            "grid_auto_columns": null,
            "grid_auto_flow": null,
            "grid_auto_rows": null,
            "grid_column": null,
            "grid_gap": null,
            "grid_row": null,
            "grid_template_areas": null,
            "grid_template_columns": null,
            "grid_template_rows": null,
            "height": null,
            "justify_content": null,
            "justify_items": null,
            "left": null,
            "margin": null,
            "max_height": null,
            "max_width": null,
            "min_height": null,
            "min_width": null,
            "object_fit": null,
            "object_position": null,
            "order": null,
            "overflow": null,
            "overflow_x": null,
            "overflow_y": null,
            "padding": null,
            "right": null,
            "top": null,
            "visibility": null,
            "width": null
          }
        },
        "779848cc1fe94124bd21a7cde6cfac00": {
          "model_module": "@jupyter-widgets/controls",
          "model_name": "DescriptionStyleModel",
          "model_module_version": "1.5.0",
          "state": {
            "_model_module": "@jupyter-widgets/controls",
            "_model_module_version": "1.5.0",
            "_model_name": "DescriptionStyleModel",
            "_view_count": null,
            "_view_module": "@jupyter-widgets/base",
            "_view_module_version": "1.2.0",
            "_view_name": "StyleView",
            "description_width": ""
          }
        }
      }
    }
  },
  "cells": [
    {
      "cell_type": "markdown",
      "metadata": {
        "id": "view-in-github",
        "colab_type": "text"
      },
      "source": [
        "<a href=\"https://colab.research.google.com/github/jsg4hw/ML_fraud_classifier/blob/main/RAG_test.ipynb\" target=\"_parent\"><img src=\"https://colab.research.google.com/assets/colab-badge.svg\" alt=\"Open In Colab\"/></a>"
      ]
    },
    {
      "cell_type": "code",
      "execution_count": null,
      "metadata": {
        "id": "uAYQQzsJWXMm"
      },
      "outputs": [],
      "source": [
        "%pip install feedparser\n"
      ]
    },
    {
      "cell_type": "code",
      "source": [
        "import feedparser\n",
        "podcast_atom_link = \"https://api.substack.com/feed/podcast/1084089.rss\" # latent space podcast RSS feed and atom link\n",
        "parsed = feedparser.parse(podcast_atom_link) # fetches and parses transcripts from ATOM link into something usable and structured\n",
        "episode = [ep for ep in parsed.entries if ep['title'] == \"RAG Is A Hack - with Jerry Liu from LlamaIndex\"][0]"
      ],
      "metadata": {
        "id": "DP5J7GMTW3W1"
      },
      "execution_count": 10,
      "outputs": []
    },
    {
      "cell_type": "code",
      "source": [
        "episode_summary = episode['summary']\n",
        "print(episode_summary[:100])"
      ],
      "metadata": {
        "colab": {
          "base_uri": "https://localhost:8080/"
        },
        "id": "hGdmMsdOXAp6",
        "outputId": "f84ba25f-9871-43cc-931c-ee026da6dfd9"
      },
      "execution_count": 11,
      "outputs": [
        {
          "output_type": "stream",
          "name": "stdout",
          "text": [
            "<p><em>Want to help define </em><em>the AI Engineer stack</em><em>? >800 folks have weighed in on th\n"
          ]
        }
      ]
    },
    {
      "cell_type": "markdown",
      "source": [
        "Parse the summary into HTML and get the transcript"
      ],
      "metadata": {
        "id": "SllWkEwX4ruW"
      }
    },
    {
      "cell_type": "code",
      "source": [
        "!brew install libxml2\n",
        "!brew install libxslt"
      ],
      "metadata": {
        "id": "u6qE10WSX1Gd"
      },
      "execution_count": null,
      "outputs": []
    },
    {
      "cell_type": "code",
      "source": [
        "pip install unstructured"
      ],
      "metadata": {
        "id": "RR0w0uQzXDvl"
      },
      "execution_count": null,
      "outputs": []
    },
    {
      "cell_type": "code",
      "source": [
        "# used to parse the summary from each episode, which is written in html.\n",
        "from unstructured.partition.html import partition_html\n",
        "parsed_summary = partition_html(text=''.join(episode_summary))"
      ],
      "metadata": {
        "id": "_gw4HB3rZJ3R"
      },
      "execution_count": 12,
      "outputs": []
    },
    {
      "cell_type": "code",
      "source": [
        "start_of_transcript = [x.text for x in parsed_summary].index(\"Transcript\") + 1\n",
        "print(f\"First line of the transcript: {start_of_transcript}\")"
      ],
      "metadata": {
        "colab": {
          "base_uri": "https://localhost:8080/"
        },
        "id": "3wFqWsurZPfL",
        "outputId": "296073ae-b4fd-41ab-9207-ef76aba45007"
      },
      "execution_count": 13,
      "outputs": [
        {
          "output_type": "stream",
          "name": "stdout",
          "text": [
            "First line of the transcript: 75\n"
          ]
        }
      ]
    },
    {
      "cell_type": "markdown",
      "source": [
        "BLOCK"
      ],
      "metadata": {
        "id": "_zyyWTrkZUF3"
      }
    },
    {
      "cell_type": "code",
      "source": [
        "pip install llama_index"
      ],
      "metadata": {
        "id": "hgqn5ViJZVgd"
      },
      "execution_count": null,
      "outputs": []
    },
    {
      "cell_type": "code",
      "source": [
        "from llama_index import Document"
      ],
      "metadata": {
        "id": "rQzAt-V7bMOb"
      },
      "execution_count": 8,
      "outputs": []
    },
    {
      "cell_type": "code",
      "source": [
        "# uses the Llama index to convert our text into a Document object\n",
        "documents = [Document(text=t.text) for t in parsed_summary[start_of_transcript:]]"
      ],
      "metadata": {
        "id": "HBi_Mo1ZbRYG"
      },
      "execution_count": 14,
      "outputs": []
    },
    {
      "cell_type": "code",
      "source": [
        "!pip install -q condacolab\n",
        "import condacolab\n",
        "condacolab.install()"
      ],
      "metadata": {
        "colab": {
          "base_uri": "https://localhost:8080/"
        },
        "id": "udwvlhsOaKy2",
        "outputId": "2d18e908-824c-4d1a-f537-b258ab0150e0"
      },
      "execution_count": 16,
      "outputs": [
        {
          "output_type": "stream",
          "name": "stdout",
          "text": [
            "⏬ Downloading https://github.com/conda-forge/miniforge/releases/download/23.1.0-1/Mambaforge-23.1.0-1-Linux-x86_64.sh...\n",
            "📦 Installing...\n",
            "📌 Adjusting configuration...\n",
            "🩹 Patching environment...\n",
            "⏲ Done in 0:00:17\n",
            "🔁 Restarting kernel...\n"
          ]
        }
      ]
    },
    {
      "cell_type": "code",
      "source": [
        "import condacolab\n",
        "condacolab.check()"
      ],
      "metadata": {
        "colab": {
          "base_uri": "https://localhost:8080/"
        },
        "id": "kV5D7S0WajCu",
        "outputId": "10d2278f-ea10-49ee-88ca-c626f2e63274"
      },
      "execution_count": 2,
      "outputs": [
        {
          "output_type": "stream",
          "name": "stdout",
          "text": [
            "✨🍰✨ Everything looks OK!\n"
          ]
        }
      ]
    },
    {
      "cell_type": "code",
      "source": [
        "!conda install -c pytorch faiss-cpu=1.7.4 mkl=2021 blas=1.0=mkl"
      ],
      "metadata": {
        "id": "yqUU2fjjZubb"
      },
      "execution_count": null,
      "outputs": []
    },
    {
      "cell_type": "code",
      "source": [
        "# Allows us to search our text data effectively\n",
        "import faiss\n",
        "d = 1536 # dimensions of text-ada-embedding-002, the embedding model that we're going to use\n",
        "faiss_index = faiss.IndexFlatL2(d)"
      ],
      "metadata": {
        "id": "ykHEJiUBbrqb"
      },
      "execution_count": 4,
      "outputs": []
    },
    {
      "cell_type": "markdown",
      "source": [
        "Specifying the embedding model and query model"
      ],
      "metadata": {
        "id": "ohA0qR2Sbu5_"
      }
    },
    {
      "cell_type": "code",
      "source": [
        "from llama_index.llms import OpenAI\n",
        "from llama_index.embeddings import OpenAIEmbedding\n",
        "# Don't forget to specify the OpenAI API Key for both the LLM and the embedding model\n",
        "from google.colab import userdata\n",
        "openai_api_key=userdata.get(\"OPENAI_API_KEY\")\n",
        "\n",
        "embed_model = OpenAIEmbedding(api_key=openai_api_key)\n",
        "llm = OpenAI(model=\"gpt-4\", api_key=openai_api_key)"
      ],
      "metadata": {
        "id": "n_wrvmgKb0D8"
      },
      "execution_count": 28,
      "outputs": []
    },
    {
      "cell_type": "code",
      "source": [
        "from llama_index import ServiceContext, set_global_service_context\n",
        "service_context = ServiceContext.from_defaults(llm=llm, embed_model=embed_model)\n",
        "set_global_service_context(service_context)"
      ],
      "metadata": {
        "id": "moEbxYO2b3Bi"
      },
      "execution_count": 30,
      "outputs": []
    },
    {
      "cell_type": "code",
      "source": [],
      "metadata": {
        "id": "Eg5qeWWIM0jF"
      },
      "execution_count": null,
      "outputs": []
    },
    {
      "cell_type": "markdown",
      "source": [
        "Embedding and Querying the Data"
      ],
      "metadata": {
        "id": "YhkqEafHb7K6"
      }
    },
    {
      "cell_type": "code",
      "source": [
        "from llama_index import VectorStoreIndex, StorageContext\n",
        "from llama_index.vector_stores.faiss import FaissVectorStore\n",
        "vector_store = FaissVectorStore(faiss_index=faiss_index)\n",
        "storage_context = StorageContext.from_defaults(vector_store=vector_store)\n",
        "index = VectorStoreIndex.from_documents(documents, storage_context=storage_context, show_progress=True)"
      ],
      "metadata": {
        "colab": {
          "base_uri": "https://localhost:8080/",
          "height": 81,
          "referenced_widgets": [
            "882f21028cb84f018ba5c18501f3b683",
            "956c1e71aac54534827cf8b9979f6d21",
            "1d566c2f66a847b182936fd53e0745c4",
            "7e6405a871274816b31701401100cdeb",
            "587befb9a2ce4cb79f03cce85e3a71e0",
            "bdcf998690dc4456a37de5a941d638fa",
            "5a1a2d3b63c44c6fa210f185003ac3fc",
            "78d6887857b4462ebbcb9fbbaf06dfdf",
            "9203394aeb6146e68f7c5043872bcb16",
            "0341838b5b08473895cb0faeb51ee280",
            "a20a1da81215442aa76be264263f3c7f",
            "968dbd7f05bb41d7899571eee4acee7a",
            "dfde7cb0967c424d80d2365fceadb05e",
            "8cec0687501949308867e946873ba4bf",
            "8f9e76153e0546808b0c15db46d19876",
            "6ddfbf6267674f23943dedd3a2f8011f",
            "19f29b8cfe92410cb3aaa49ee8c4d414",
            "0fad3043ec334e1fbe372490f2e22895",
            "f2f26e451a1a4baca986b04aae2e063e",
            "7a8d624594e540328929a916edf009e8",
            "9e8986d974f048b5973f6f811052d926",
            "779848cc1fe94124bd21a7cde6cfac00"
          ]
        },
        "id": "bP7M0WPmb9TF",
        "outputId": "074eea20-49ff-4b03-c977-c33ab223f3a2"
      },
      "execution_count": 31,
      "outputs": [
        {
          "output_type": "display_data",
          "data": {
            "text/plain": [
              "Parsing nodes:   0%|          | 0/300 [00:00<?, ?it/s]"
            ],
            "application/vnd.jupyter.widget-view+json": {
              "version_major": 2,
              "version_minor": 0,
              "model_id": "882f21028cb84f018ba5c18501f3b683"
            }
          },
          "metadata": {}
        },
        {
          "output_type": "display_data",
          "data": {
            "text/plain": [
              "Generating embeddings:   0%|          | 0/300 [00:00<?, ?it/s]"
            ],
            "application/vnd.jupyter.widget-view+json": {
              "version_major": 2,
              "version_minor": 0,
              "model_id": "968dbd7f05bb41d7899571eee4acee7a"
            }
          },
          "metadata": {}
        }
      ]
    },
    {
      "cell_type": "code",
      "source": [
        "query = \"What does Jerry think about RAG?\"\n",
        "response = index.as_query_engine(similarity_top_k=3).query(query) # includes only top 3 results"
      ],
      "metadata": {
        "id": "0hUbh2u9g5vQ"
      },
      "execution_count": 32,
      "outputs": []
    },
    {
      "cell_type": "code",
      "source": [
        "response.response"
      ],
      "metadata": {
        "colab": {
          "base_uri": "https://localhost:8080/",
          "height": 89
        },
        "id": "bDsOgCT0hOeY",
        "outputId": "c11a7e10-e8ae-4573-9e4f-061dd02f848a"
      },
      "execution_count": 33,
      "outputs": [
        {
          "output_type": "execute_result",
          "data": {
            "text/plain": [
              "\"Jerry believes that RAG increases transparency and visibility into documents. He also thinks that in the long term, fine-tuning might memorize some high-level concepts of knowledge, with RAG supplementing aspects that it doesn't know. He suggests that improvements to RAG could involve aspects like chunking and metadata.\""
            ],
            "application/vnd.google.colaboratory.intrinsic+json": {
              "type": "string"
            }
          },
          "metadata": {},
          "execution_count": 33
        }
      ]
    },
    {
      "cell_type": "code",
      "source": [
        "# seeing the sources for the response and their scores\n",
        "for node in response.source_nodes:\n",
        "    print(f\"{node.get_score()} 👉 {node.text}\")"
      ],
      "metadata": {
        "colab": {
          "base_uri": "https://localhost:8080/"
        },
        "id": "uLzNyvxshx5R",
        "outputId": "a46c3321-b97f-46c7-ae35-18f157f31ac0"
      },
      "execution_count": 34,
      "outputs": [
        {
          "output_type": "stream",
          "name": "stdout",
          "text": [
            "0.24235212802886963 👉 Jerry: So, so I think what RAG does is it increases like transparency, visibility into the actual documents, right. [00:26:19]\n",
            "0.2501530945301056 👉 Jerry: I mean, I think in the longterm, like if like, this is kind of how fine tuning, like RAG evolves. Like I do think there'll be some aspect where fine tuning will probably memorize some high level concepts of knowledge, but then like RAG will just be there to supplement like aspects of that, that aren't work that don't, that, that it doesn't know.\n",
            "0.28081560134887695 👉 Jerry: To improve rag, like everything that we talked about, like chunking, like metadata, like. [00:57:24]\n"
          ]
        }
      ]
    },
    {
      "cell_type": "markdown",
      "source": [
        "To do some fine tuning, consider:\n",
        "\n",
        "\n",
        "*   increasing the number of sources but specifying a similarity threshold (score) of 0.3\n",
        "*   Make the chunks larger\n",
        "*   Include the surrounding chunks\n",
        "\n",
        "\n"
      ],
      "metadata": {
        "id": "ZAoyfnv8iFX1"
      }
    },
    {
      "cell_type": "markdown",
      "source": [
        "**Querying the data with chat and memory**"
      ],
      "metadata": {
        "id": "qnllo3MCixAR"
      }
    },
    {
      "cell_type": "markdown",
      "source": [
        "Now we've built this query interface, but that won't include is the history of our conversation. We can't ask follow up questions and get more information.\n",
        "For that, we need to include a different chat_mode which specifies the behavior of the chat application. Here are the currently available chat modes (as of the time of this writing):\n",
        "*    **best** - Turn the query engine into a tool, for use with a ReAct data agent or an OpenAI data agent, depending on what your LLM supports. OpenAI data agents require gpt-3.5-turbo or gpt-4 as they use the function calling API from OpenAI.\n",
        "*    **openai** - Same as best, but forces an OpenAI data agent.\n",
        "*    **context** - Retrieve nodes from the index using every user message. The retrieved text is inserted into the system prompt, so that the chat engine can either respond naturally or use the context from the query engine.\n",
        "*    **condense_question** - Look at the chat history and re-write the user message to be a query for the index. Return the response after reading the response from the query engine.\n",
        "*    **simple** - A simple chat with the LLM directly, no query engine involved.\n",
        "react - Same as best, but forces a ReAct data agent.\n"
      ],
      "metadata": {
        "id": "cO3vUTzxjEQS"
      }
    },
    {
      "cell_type": "code",
      "source": [
        "query = \"What does Jerry think about RAG?\"\n",
        "chat_eng = index.as_chat_engine(similarity_top_k=3, chat_mode='context')\n",
        "response = chat_eng.chat(query)"
      ],
      "metadata": {
        "id": "Tpa4njaYikrd"
      },
      "execution_count": 35,
      "outputs": []
    },
    {
      "cell_type": "code",
      "source": [
        "response.response"
      ],
      "metadata": {
        "colab": {
          "base_uri": "https://localhost:8080/",
          "height": 107
        },
        "id": "eTNtFEa9jnDV",
        "outputId": "51d399cb-80bc-41d1-c126-68b9d6e366de"
      },
      "execution_count": 37,
      "outputs": [
        {
          "output_type": "execute_result",
          "data": {
            "text/plain": [
              "\"Jerry believes that RAG (Retrieval-Augmented Generation) increases transparency and visibility into documents. He also thinks that in the long term, fine-tuning will likely memorize some high-level concepts of knowledge, with RAG supplementing aspects that it doesn't know. Jerry also suggests that to improve RAG, strategies like chunking and metadata could be considered.\""
            ],
            "application/vnd.google.colaboratory.intrinsic+json": {
              "type": "string"
            }
          },
          "metadata": {},
          "execution_count": 37
        }
      ]
    },
    {
      "cell_type": "code",
      "source": [
        "chat_eng.chat_history # displays chat history that's stored as memory for chat"
      ],
      "metadata": {
        "colab": {
          "base_uri": "https://localhost:8080/"
        },
        "id": "NjMf6fyKj4dI",
        "outputId": "3abca847-75ec-41db-e509-96e80b235d59"
      },
      "execution_count": 38,
      "outputs": [
        {
          "output_type": "execute_result",
          "data": {
            "text/plain": [
              "[ChatMessage(role=<MessageRole.USER: 'user'>, content='What does Jerry think about RAG?', additional_kwargs={}),\n",
              " ChatMessage(role=<MessageRole.ASSISTANT: 'assistant'>, content=\"Jerry believes that RAG (Retrieval-Augmented Generation) increases transparency and visibility into documents. He also thinks that in the long term, fine-tuning will likely memorize some high-level concepts of knowledge, with RAG supplementing aspects that it doesn't know. Jerry also suggests that to improve RAG, strategies like chunking and metadata could be considered.\", additional_kwargs={})]"
            ]
          },
          "metadata": {},
          "execution_count": 38
        }
      ]
    },
    {
      "cell_type": "code",
      "source": [
        "query_2 = \"How does he think that it will evolve over time?\"\n",
        "response_2 = chat_eng.chat(query_2)"
      ],
      "metadata": {
        "id": "ki_H7hDDkEPy"
      },
      "execution_count": 39,
      "outputs": []
    },
    {
      "cell_type": "code",
      "source": [
        "response_2.response"
      ],
      "metadata": {
        "colab": {
          "base_uri": "https://localhost:8080/",
          "height": 89
        },
        "id": "Mrt32sUdkIa-",
        "outputId": "4aaf3bc7-517e-4d3f-c65a-2dc9ded357e0"
      },
      "execution_count": 41,
      "outputs": [
        {
          "output_type": "execute_result",
          "data": {
            "text/plain": [
              "\"Jerry thinks that over time, fine-tuning will probably memorize some high-level concepts of knowledge, and RAG will be there to supplement aspects that it doesn't know. This suggests that he believes RAG will evolve to fill in the gaps in knowledge that fine-tuning can't cover.\""
            ],
            "application/vnd.google.colaboratory.intrinsic+json": {
              "type": "string"
            }
          },
          "metadata": {},
          "execution_count": 41
        }
      ]
    },
    {
      "cell_type": "code",
      "source": [
        "chat_eng.chat_history"
      ],
      "metadata": {
        "colab": {
          "base_uri": "https://localhost:8080/"
        },
        "id": "Gk6UMk3HkRKU",
        "outputId": "b17e2a31-c717-4448-a079-3dd60b439c7a"
      },
      "execution_count": 42,
      "outputs": [
        {
          "output_type": "execute_result",
          "data": {
            "text/plain": [
              "[ChatMessage(role=<MessageRole.USER: 'user'>, content='What does Jerry think about RAG?', additional_kwargs={}),\n",
              " ChatMessage(role=<MessageRole.ASSISTANT: 'assistant'>, content=\"Jerry believes that RAG (Retrieval-Augmented Generation) increases transparency and visibility into documents. He also thinks that in the long term, fine-tuning will likely memorize some high-level concepts of knowledge, with RAG supplementing aspects that it doesn't know. Jerry also suggests that to improve RAG, strategies like chunking and metadata could be considered.\", additional_kwargs={}),\n",
              " ChatMessage(role=<MessageRole.USER: 'user'>, content='How does he think that it will evolve over time?', additional_kwargs={}),\n",
              " ChatMessage(role=<MessageRole.ASSISTANT: 'assistant'>, content=\"Jerry thinks that over time, fine-tuning will probably memorize some high-level concepts of knowledge, and RAG will be there to supplement aspects that it doesn't know. This suggests that he believes RAG will evolve to fill in the gaps in knowledge that fine-tuning can't cover.\", additional_kwargs={})]"
            ]
          },
          "metadata": {},
          "execution_count": 42
        }
      ]
    }
  ]
}