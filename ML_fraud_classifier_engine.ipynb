{
  "nbformat": 4,
  "nbformat_minor": 0,
  "metadata": {
    "colab": {
      "provenance": [],
      "authorship_tag": "ABX9TyP1qtCdyeeAj0mIznb3jbkw",
      "include_colab_link": true
    },
    "kernelspec": {
      "name": "python3",
      "display_name": "Python 3"
    },
    "language_info": {
      "name": "python"
    }
  },
  "cells": [
    {
      "cell_type": "markdown",
      "metadata": {
        "id": "view-in-github",
        "colab_type": "text"
      },
      "source": [
        "<a href=\"https://colab.research.google.com/github/jsg4hw/ML_fraud_classifier/blob/main/ML_fraud_classifier_engine.ipynb\" target=\"_parent\"><img src=\"https://colab.research.google.com/assets/colab-badge.svg\" alt=\"Open In Colab\"/></a>"
      ]
    },
    {
      "cell_type": "code",
      "source": [
        "pip install scikit-learn pandas"
      ],
      "metadata": {
        "id": "NgQxaiususmq"
      },
      "execution_count": null,
      "outputs": []
    },
    {
      "cell_type": "code",
      "execution_count": null,
      "metadata": {
        "id": "-2-y2_cssl-k"
      },
      "outputs": [],
      "source": [
        "import sklearn\n",
        "import pandas as pd\n",
        "\n",
        "from sklearn.model_selection import train_test_split\n",
        "from sklearn.naive_bayes import GaussianNB\n",
        "from sklearn.metrics import accuracy_score, classification_report\n"
      ]
    },
    {
      "cell_type": "code",
      "source": [
        "# upload dataset into session storage files and then import dataset into notebook\n",
        "\n",
        "file_path = \"/content/creditcard_2023.csv\"\n",
        "df = pd.read_csv(file_path)"
      ],
      "metadata": {
        "id": "BvcIbyOFvCVN"
      },
      "execution_count": null,
      "outputs": []
    },
    {
      "cell_type": "markdown",
      "source": [
        "# New Section"
      ],
      "metadata": {
        "id": "ZZ1u0V9HNIYE"
      }
    },
    {
      "cell_type": "code",
      "source": [
        "print(df.shape)\n",
        "print(df.values[202634])"
      ],
      "metadata": {
        "colab": {
          "base_uri": "https://localhost:8080/"
        },
        "id": "CCO7y4O0DpQk",
        "outputId": "2884b87b-d04f-43a9-b133-d0b4f4a9415f"
      },
      "execution_count": null,
      "outputs": [
        {
          "output_type": "stream",
          "name": "stdout",
          "text": [
            "(568630, 31)\n",
            "[ 2.02634000e+05  3.66267173e-01 -6.96382242e-01 -8.34592297e-02\n",
            " -2.28570918e+00  3.52319290e-01  1.52428633e-01  1.10621155e+00\n",
            " -2.79283022e-01 -8.01178296e-01  1.04143581e+00 -1.98368853e+00\n",
            "  8.68153741e-03  7.59381173e-01  7.24607680e-01 -1.07336944e+00\n",
            " -8.50559264e-02  5.92867450e-01  2.60044500e-01 -2.88610943e-01\n",
            " -8.73437945e-02  3.75689601e-04  8.09650378e-01  3.86972923e-02\n",
            "  1.55165298e-01  9.87299256e-01  5.28031841e-01 -3.50914328e-01\n",
            " -1.52532158e-01  1.78779900e+04  0.00000000e+00]\n"
          ]
        }
      ]
    },
    {
      "cell_type": "code",
      "source": [
        "# Extract feature labels (all column names except 'id' and the last column)\n",
        "features_labels = df.columns.drop(['id', df.columns[-1]]).tolist()\n",
        "\n",
        "\n",
        "# Extract target label (name of the last column)\n",
        "target_label = df.columns[-1]\n",
        "\n",
        "# Separate the features and target\n",
        "features = df.drop(['id', df.columns[-1]], axis=1)\n",
        "target = df[df.columns[-1]]"
      ],
      "metadata": {
        "id": "VRXPkriU__R4"
      },
      "execution_count": null,
      "outputs": []
    },
    {
      "cell_type": "code",
      "source": [
        "feature_labels_exp = df.columns[0:-1].tolist()\n",
        "target_labels_exp = df.columns[[0, -1]].tolist()\n",
        "features_exp = df.drop('Class', axis=1)\n",
        "target_exp = df[df.columns[[0,-1]]]"
      ],
      "metadata": {
        "id": "Q4AzeYIvDsUr"
      },
      "execution_count": null,
      "outputs": []
    },
    {
      "cell_type": "code",
      "source": [
        "print(target)\n",
        "print(features.values[202634])"
      ],
      "metadata": {
        "colab": {
          "base_uri": "https://localhost:8080/"
        },
        "id": "pSSJUdDTPNh7",
        "outputId": "bc858e5d-df1a-4b69-a99e-44440149d0d3"
      },
      "execution_count": null,
      "outputs": [
        {
          "output_type": "stream",
          "name": "stdout",
          "text": [
            "0         0\n",
            "1         0\n",
            "2         0\n",
            "3         0\n",
            "4         0\n",
            "         ..\n",
            "568625    1\n",
            "568626    1\n",
            "568627    1\n",
            "568628    1\n",
            "568629    1\n",
            "Name: Class, Length: 568630, dtype: int64\n",
            "[ 3.66267173e-01 -6.96382242e-01 -8.34592297e-02 -2.28570918e+00\n",
            "  3.52319290e-01  1.52428633e-01  1.10621155e+00 -2.79283022e-01\n",
            " -8.01178296e-01  1.04143581e+00 -1.98368853e+00  8.68153741e-03\n",
            "  7.59381173e-01  7.24607680e-01 -1.07336944e+00 -8.50559264e-02\n",
            "  5.92867450e-01  2.60044500e-01 -2.88610943e-01 -8.73437945e-02\n",
            "  3.75689601e-04  8.09650378e-01  3.86972923e-02  1.55165298e-01\n",
            "  9.87299256e-01  5.28031841e-01 -3.50914328e-01 -1.52532158e-01\n",
            "  1.78779900e+04]\n"
          ]
        }
      ]
    },
    {
      "cell_type": "code",
      "source": [
        "print(features_exp)"
      ],
      "metadata": {
        "id": "7Tc8e-mTRSmM"
      },
      "execution_count": null,
      "outputs": []
    },
    {
      "cell_type": "code",
      "source": [
        "print(features_labels)\n",
        "print(features.head().T)\n",
        "print(features.values[0])"
      ],
      "metadata": {
        "id": "1I108ppL_5Xw"
      },
      "execution_count": null,
      "outputs": []
    },
    {
      "cell_type": "code",
      "source": [
        "train, test, train_labels, test_labels = train_test_split(features,\n",
        "                                                          target,\n",
        "                                                          test_size=0.33,\n",
        "                                                          random_state=42\n",
        "\n",
        ")"
      ],
      "metadata": {
        "id": "xkHpVtSb7toD"
      },
      "execution_count": null,
      "outputs": []
    },
    {
      "cell_type": "code",
      "source": [
        "print(train.head)\n",
        "print(train.values[0])\n",
        "print(target.head)"
      ],
      "metadata": {
        "id": "HaTbY6TMosFM"
      },
      "execution_count": null,
      "outputs": []
    },
    {
      "cell_type": "code",
      "source": [
        "train, test, train_labels, test_labels = train_test_split(features_exp,\n",
        "                                                          target_exp,\n",
        "                                                          test_size=0.33,\n",
        "                                                          random_state=42\n",
        "\n",
        ")"
      ],
      "metadata": {
        "id": "IYUbjYdBQdEn"
      },
      "execution_count": null,
      "outputs": []
    },
    {
      "cell_type": "code",
      "source": [
        "print(test_labels)"
      ],
      "metadata": {
        "colab": {
          "base_uri": "https://localhost:8080/"
        },
        "id": "HIAhtROu2lTB",
        "outputId": "7327c687-fb9f-43dc-fa0f-772ac4250e5d"
      },
      "execution_count": null,
      "outputs": [
        {
          "output_type": "stream",
          "name": "stdout",
          "text": [
            "94147     0.0\n",
            "10930     0.0\n",
            "86342     0.0\n",
            "47615     0.0\n",
            "136794    0.0\n",
            "         ... \n",
            "98191     0.0\n",
            "32728     0.0\n",
            "56669     0.0\n",
            "137127    0.0\n",
            "43094     0.0\n",
            "Name: Class, Length: 62380, dtype: float64\n"
          ]
        }
      ]
    },
    {
      "cell_type": "code",
      "source": [
        "print(train.head)\n",
        "# print(train.values[318937])"
      ],
      "metadata": {
        "id": "XHjAjoODDHk2"
      },
      "execution_count": null,
      "outputs": []
    },
    {
      "cell_type": "code",
      "source": [
        "# Initialize our classifier\n",
        "gnb = GaussianNB()\n",
        "\n",
        "# Train our classifier\n",
        "model = gnb.fit(train, train_labels)"
      ],
      "metadata": {
        "id": "K9RvV9QSFqs-"
      },
      "execution_count": null,
      "outputs": []
    },
    {
      "cell_type": "code",
      "source": [
        "# Make predictions\n",
        "preds = gnb.predict(test)\n",
        "print(preds)"
      ],
      "metadata": {
        "colab": {
          "base_uri": "https://localhost:8080/"
        },
        "id": "ody9wDiiFv9s",
        "outputId": "bebde093-5aaa-4f13-b759-f9cfd9036f78"
      },
      "execution_count": null,
      "outputs": [
        {
          "output_type": "stream",
          "name": "stdout",
          "text": [
            "[1 1 0 ... 0 1 1]\n"
          ]
        }
      ]
    },
    {
      "cell_type": "code",
      "source": [
        "print(\"test.head\")\n",
        "print(test[:10])\n",
        "print(\"predictions.head\")\n",
        "print(preds[:10])\n",
        "print(\"OG features\")\n",
        "print(features.values[437378])\n",
        "# [437378, 504222, 4794, 388411, 424512, 123536, 333319, 369666, 62882, 414847]\n",
        "print(\"Target values\")\n",
        "print(target.values[437378])"
      ],
      "metadata": {
        "id": "IeFrYDPqsfxc"
      },
      "execution_count": null,
      "outputs": []
    },
    {
      "cell_type": "code",
      "source": [
        "# Evaluate accuracy\n",
        "print(accuracy_score(test_labels, preds))\n",
        "#  test_labels = y_true, preds = y_pred\n",
        "print(classification_report(test_labels, preds, target_names=['No Fraud', 'Fraudulent']))\n",
        "print(gnb.theta_)"
      ],
      "metadata": {
        "colab": {
          "base_uri": "https://localhost:8080/"
        },
        "id": "UyPenh1GF2XT",
        "outputId": "7dd36ee4-20b8-4b03-b9a7-bb31b58e6df1"
      },
      "execution_count": null,
      "outputs": [
        {
          "output_type": "stream",
          "name": "stdout",
          "text": [
            "0.9160715808321964\n",
            "              precision    recall  f1-score   support\n",
            "\n",
            "    No Fraud       0.87      0.98      0.92     93775\n",
            "  Fraudulent       0.98      0.85      0.91     93873\n",
            "\n",
            "    accuracy                           0.92    187648\n",
            "   macro avg       0.92      0.92      0.92    187648\n",
            "weighted avg       0.92      0.92      0.92    187648\n",
            "\n",
            "[[ 5.06475887e-01 -4.93134821e-01  6.81746186e-01 -7.37901813e-01\n",
            "   3.38366599e-01  4.36247276e-01  4.91884696e-01 -1.44266081e-01\n",
            "   5.84966689e-01  6.72850582e-01 -7.25209996e-01  7.67389683e-01\n",
            "   7.14743488e-02  8.04367875e-01  3.91197240e-02  5.73377742e-01\n",
            "   4.76622149e-01  4.10518789e-01 -2.44438848e-01 -1.79449818e-01\n",
            "  -1.09776170e-01 -1.40230571e-02 -9.78916941e-03  1.29720428e-01\n",
            "  -6.19109458e-02 -7.11211296e-02 -2.14055810e-01 -1.02631414e-01\n",
            "   1.20404597e+04]\n",
            " [-5.04750917e-01  4.89982749e-01 -6.80724042e-01  7.35915291e-01\n",
            "  -3.36823340e-01 -4.33720778e-01 -4.89602829e-01  1.42375324e-01\n",
            "  -5.84958248e-01 -6.72312725e-01  7.23575607e-01 -7.68515077e-01\n",
            "  -7.14642103e-02 -8.06096329e-01 -3.71887245e-02 -5.73589662e-01\n",
            "  -4.76595144e-01 -4.09551097e-01  2.45393326e-01  1.77208369e-01\n",
            "   1.14317079e-01  1.13143274e-02  1.31278611e-02 -1.29932491e-01\n",
            "   6.11265759e-02  7.25848044e-02  2.14897111e-01  1.04113554e-01\n",
            "   1.20543989e+04]]\n"
          ]
        }
      ]
    }
  ]
}