{
  "nbformat": 4,
  "nbformat_minor": 0,
  "metadata": {
    "colab": {
      "provenance": [],
      "authorship_tag": "ABX9TyN+RJpsld3O0r8cDH66m38x",
      "include_colab_link": true
    },
    "kernelspec": {
      "name": "python3",
      "display_name": "Python 3"
    },
    "language_info": {
      "name": "python"
    }
  },
  "cells": [
    {
      "cell_type": "markdown",
      "metadata": {
        "id": "view-in-github",
        "colab_type": "text"
      },
      "source": [
        "<a href=\"https://colab.research.google.com/github/jsg4hw/ML_fraud_classifier/blob/main/ML_fraud_classifier_engine.ipynb\" target=\"_parent\"><img src=\"https://colab.research.google.com/assets/colab-badge.svg\" alt=\"Open In Colab\"/></a>"
      ]
    },
    {
      "cell_type": "code",
      "source": [
        "pip install scikit-learn pandas"
      ],
      "metadata": {
        "id": "NgQxaiususmq"
      },
      "execution_count": null,
      "outputs": []
    },
    {
      "cell_type": "code",
      "execution_count": 125,
      "metadata": {
        "id": "-2-y2_cssl-k"
      },
      "outputs": [],
      "source": [
        "import sklearn\n",
        "import pandas as pd\n",
        "\n",
        "from sklearn.model_selection import train_test_split\n",
        "from sklearn.naive_bayes import GaussianNB\n",
        "from sklearn.metrics import accuracy_score, classification_report\n"
      ]
    },
    {
      "cell_type": "code",
      "source": [
        "# upload dataset into session storage files and then import dataset into notebook\n",
        "\n",
        "file_path = \"/content/creditcard_2023.csv\"\n",
        "df = pd.read_csv(file_path)"
      ],
      "metadata": {
        "id": "BvcIbyOFvCVN"
      },
      "execution_count": null,
      "outputs": []
    },
    {
      "cell_type": "code",
      "source": [
        "print(df.values[202634])"
      ],
      "metadata": {
        "colab": {
          "base_uri": "https://localhost:8080/"
        },
        "id": "CCO7y4O0DpQk",
        "outputId": "5978fd1c-2870-4323-c28f-d6f13e47c655"
      },
      "execution_count": 92,
      "outputs": [
        {
          "output_type": "stream",
          "name": "stdout",
          "text": [
            "[ 2.02634000e+05  3.66267173e-01 -6.96382242e-01 -8.34592297e-02\n",
            " -2.28570918e+00  3.52319290e-01  1.52428633e-01  1.10621155e+00\n",
            " -2.79283022e-01 -8.01178296e-01  1.04143581e+00 -1.98368853e+00\n",
            "  8.68153741e-03  7.59381173e-01  7.24607680e-01 -1.07336944e+00\n",
            " -8.50559264e-02  5.92867450e-01  2.60044500e-01 -2.88610943e-01\n",
            " -8.73437945e-02  3.75689601e-04  8.09650378e-01  3.86972923e-02\n",
            "  1.55165298e-01  9.87299256e-01  5.28031841e-01 -3.50914328e-01\n",
            " -1.52532158e-01  1.78779900e+04  0.00000000e+00]\n"
          ]
        }
      ]
    },
    {
      "cell_type": "code",
      "source": [
        "# Extract feature labels (all column names except 'id' and the last column)\n",
        "features_labels = df.columns.drop(['id', df.columns[-1]]).tolist()\n",
        "\n",
        "\n",
        "# Extract target label (name of the last column)\n",
        "target_label = df.columns[-1]\n",
        "\n",
        "# Separate the features and target\n",
        "features = df.drop(['id', df.columns[-1]], axis=1)\n",
        "target = df[df.columns[-1]]"
      ],
      "metadata": {
        "id": "VRXPkriU__R4"
      },
      "execution_count": 84,
      "outputs": []
    },
    {
      "cell_type": "code",
      "source": [
        "feature_labels_exp = df.columns[0:-1].tolist()\n",
        "target_labels_exp = df.columns[[0, -1]].tolist()\n",
        "features_exp = df.drop('Class', axis=1)\n",
        "target_exp = df[df.columns[[0,-1]]]"
      ],
      "metadata": {
        "id": "Q4AzeYIvDsUr"
      },
      "execution_count": 69,
      "outputs": []
    },
    {
      "cell_type": "code",
      "source": [
        "print(target.shape)\n",
        "print(features.values[202634])"
      ],
      "metadata": {
        "colab": {
          "base_uri": "https://localhost:8080/"
        },
        "id": "pSSJUdDTPNh7",
        "outputId": "516125a6-78e7-4358-a104-47b8e1aabb8b"
      },
      "execution_count": 91,
      "outputs": [
        {
          "output_type": "stream",
          "name": "stdout",
          "text": [
            "(568630,)\n",
            "[ 3.66267173e-01 -6.96382242e-01 -8.34592297e-02 -2.28570918e+00\n",
            "  3.52319290e-01  1.52428633e-01  1.10621155e+00 -2.79283022e-01\n",
            " -8.01178296e-01  1.04143581e+00 -1.98368853e+00  8.68153741e-03\n",
            "  7.59381173e-01  7.24607680e-01 -1.07336944e+00 -8.50559264e-02\n",
            "  5.92867450e-01  2.60044500e-01 -2.88610943e-01 -8.73437945e-02\n",
            "  3.75689601e-04  8.09650378e-01  3.86972923e-02  1.55165298e-01\n",
            "  9.87299256e-01  5.28031841e-01 -3.50914328e-01 -1.52532158e-01\n",
            "  1.78779900e+04]\n"
          ]
        }
      ]
    },
    {
      "cell_type": "code",
      "source": [
        "print(features_exp)"
      ],
      "metadata": {
        "id": "7Tc8e-mTRSmM"
      },
      "execution_count": null,
      "outputs": []
    },
    {
      "cell_type": "code",
      "source": [
        "print(features_labels)\n",
        "print(features.head().T)\n",
        "print(features.values[0])"
      ],
      "metadata": {
        "id": "1I108ppL_5Xw"
      },
      "execution_count": null,
      "outputs": []
    },
    {
      "cell_type": "code",
      "source": [
        "train, test, train_labels, test_labels = train_test_split(features,\n",
        "                                                          target,\n",
        "                                                          test_size=0.33,\n",
        "                                                          random_state=42\n",
        "\n",
        ")"
      ],
      "metadata": {
        "id": "xkHpVtSb7toD"
      },
      "execution_count": 94,
      "outputs": []
    },
    {
      "cell_type": "code",
      "source": [
        "print(train.head)\n",
        "print(train.values[0])\n",
        "print(target.head)"
      ],
      "metadata": {
        "id": "HaTbY6TMosFM"
      },
      "execution_count": null,
      "outputs": []
    },
    {
      "cell_type": "code",
      "source": [
        "train, test, train_labels, test_labels = train_test_split(features_exp,\n",
        "                                                          target_exp,\n",
        "                                                          test_size=0.33,\n",
        "                                                          random_state=42\n",
        "\n",
        ")"
      ],
      "metadata": {
        "id": "IYUbjYdBQdEn"
      },
      "execution_count": 73,
      "outputs": []
    },
    {
      "cell_type": "code",
      "source": [
        "print(test_labels)"
      ],
      "metadata": {
        "colab": {
          "base_uri": "https://localhost:8080/"
        },
        "id": "HIAhtROu2lTB",
        "outputId": "3072c10d-608b-4b8a-c784-f5f7c9fc7d6c"
      },
      "execution_count": 134,
      "outputs": [
        {
          "output_type": "stream",
          "name": "stdout",
          "text": [
            "437378    1\n",
            "504222    1\n",
            "4794      0\n",
            "388411    1\n",
            "424512    1\n",
            "         ..\n",
            "335693    1\n",
            "433353    1\n",
            "506213    1\n",
            "392877    1\n",
            "450380    1\n",
            "Name: Class, Length: 187648, dtype: int64\n"
          ]
        }
      ]
    },
    {
      "cell_type": "code",
      "source": [
        "print(train.head)\n",
        "print(train.values[318937])"
      ],
      "metadata": {
        "id": "XHjAjoODDHk2"
      },
      "execution_count": null,
      "outputs": []
    },
    {
      "cell_type": "code",
      "source": [
        "# Initialize our classifier\n",
        "gnb = GaussianNB()\n",
        "\n",
        "# Train our classifier\n",
        "model = gnb.fit(train, train_labels)"
      ],
      "metadata": {
        "id": "K9RvV9QSFqs-"
      },
      "execution_count": 95,
      "outputs": []
    },
    {
      "cell_type": "code",
      "source": [
        "# Make predictions\n",
        "preds = gnb.predict(test)\n",
        "print(preds)"
      ],
      "metadata": {
        "colab": {
          "base_uri": "https://localhost:8080/"
        },
        "id": "ody9wDiiFv9s",
        "outputId": "08e8a0bb-5f40-4825-931d-2c8e85ee9914"
      },
      "execution_count": 105,
      "outputs": [
        {
          "output_type": "stream",
          "name": "stdout",
          "text": [
            "[1 1 0 ... 0 1 1]\n"
          ]
        }
      ]
    },
    {
      "cell_type": "code",
      "source": [
        "print(\"test.head\")\n",
        "print(test[:10])\n",
        "print(\"predictions.head\")\n",
        "print(preds[:10])\n",
        "print(\"OG features\")\n",
        "print(features.values[437378])\n",
        "# [437378, 504222, 4794, 388411, 424512, 123536, 333319, 369666, 62882, 414847]\n",
        "print(\"Target values\")\n",
        "print(target.values[437378])"
      ],
      "metadata": {
        "id": "IeFrYDPqsfxc"
      },
      "execution_count": null,
      "outputs": []
    },
    {
      "cell_type": "code",
      "source": [
        "# Evaluate accuracy\n",
        "print(accuracy_score(test_labels, preds))\n",
        "#  test_labels = y_true, preds = y_pred\n",
        "print(classification_report(test_labels, preds, target_names=['No Fraud', 'Fraudulent']))"
      ],
      "metadata": {
        "colab": {
          "base_uri": "https://localhost:8080/"
        },
        "id": "UyPenh1GF2XT",
        "outputId": "02a37425-71a7-4109-cfe6-a10cb506b3b4"
      },
      "execution_count": 137,
      "outputs": [
        {
          "output_type": "stream",
          "name": "stdout",
          "text": [
            "0.9160715808321964\n",
            "              precision    recall  f1-score   support\n",
            "\n",
            "    No Fraud       0.87      0.98      0.92     93775\n",
            "  Fraudulent       0.98      0.85      0.91     93873\n",
            "\n",
            "    accuracy                           0.92    187648\n",
            "   macro avg       0.92      0.92      0.92    187648\n",
            "weighted avg       0.92      0.92      0.92    187648\n",
            "\n"
          ]
        }
      ]
    }
  ]
}